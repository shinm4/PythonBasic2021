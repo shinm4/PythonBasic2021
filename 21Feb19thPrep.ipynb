{
  "nbformat": 4,
  "nbformat_minor": 0,
  "metadata": {
    "colab": {
      "name": "21Feb19thPrep.ipynb",
      "provenance": [],
      "collapsed_sections": [],
      "authorship_tag": "ABX9TyN8j9JwBMEwlvr2I45W9iRI",
      "include_colab_link": true
    },
    "kernelspec": {
      "name": "python3",
      "display_name": "Python 3"
    }
  },
  "cells": [
    {
      "cell_type": "markdown",
      "metadata": {
        "id": "view-in-github",
        "colab_type": "text"
      },
      "source": [
        "<a href=\"https://colab.research.google.com/github/shinm4/PythonBasic2021/blob/main/21Feb19thPrep.ipynb\" target=\"_parent\"><img src=\"https://colab.research.google.com/assets/colab-badge.svg\" alt=\"Open In Colab\"/></a>"
      ]
    },
    {
      "cell_type": "code",
      "metadata": {
        "colab": {
          "base_uri": "https://localhost:8080/"
        },
        "id": "drIyl0pCJJws",
        "outputId": "2d63948d-88e2-49b6-9ea2-27720f317d2c"
      },
      "source": [
        "nums = [100, 200, 300, 400, 500]\r\n",
        "nums.pop()           #마지막 끝에서 하나 날라감\r\n",
        "nums.pop()           #마지막 끝에서 하나 날라감 \r\n",
        "print(nums)"
      ],
      "execution_count": null,
      "outputs": [
        {
          "output_type": "stream",
          "text": [
            "[100, 200, 300]\n"
          ],
          "name": "stdout"
        }
      ]
    },
    {
      "cell_type": "code",
      "metadata": {
        "colab": {
          "base_uri": "https://localhost:8080/"
        },
        "id": "5aeUJ--dK_hV",
        "outputId": "86cfce57-e015-48ab-d4bd-0d43c9fc2ee6"
      },
      "source": [
        "nums = [100, 200, 300, 400, 500]\r\n",
        "nums = nums[:3]\r\n",
        "print(nums)"
      ],
      "execution_count": null,
      "outputs": [
        {
          "output_type": "stream",
          "text": [
            "[100, 200, 300]\n"
          ],
          "name": "stdout"
        }
      ]
    },
    {
      "cell_type": "code",
      "metadata": {
        "colab": {
          "base_uri": "https://localhost:8080/"
        },
        "id": "E4ALHNQDMkPL",
        "outputId": "1cb47957-f91e-4d59-8fb5-2fea3fc045eb"
      },
      "source": [
        "nums = [100, 200, 300, 400, 500]\r\n",
        "del nums[3]\r\n",
        "del nums[3]\r\n",
        "print(nums)"
      ],
      "execution_count": null,
      "outputs": [
        {
          "output_type": "stream",
          "text": [
            "[100, 200, 300]\n"
          ],
          "name": "stdout"
        }
      ]
    },
    {
      "cell_type": "code",
      "metadata": {
        "colab": {
          "base_uri": "https://localhost:8080/"
        },
        "id": "7lmZSGT4NZq8",
        "outputId": "c4808eb4-1eae-44e6-dd94-42c7ff9f5143"
      },
      "source": [
        "i = [200,100,300]\r\n",
        "i.insert(2,10000)      #2번째에 10000 넣어서 출력됨.\r\n",
        "print(i)"
      ],
      "execution_count": null,
      "outputs": [
        {
          "output_type": "stream",
          "text": [
            "[200, 100, 10000, 300]\n"
          ],
          "name": "stdout"
        }
      ]
    },
    {
      "cell_type": "code",
      "metadata": {
        "colab": {
          "base_uri": "https://localhost:8080/"
        },
        "id": "HTdzo4KdOcn2",
        "outputId": "d3dd1a4e-00f6-4329-e635-67a69f759371"
      },
      "source": [
        "s = input('')\r\n",
        "print(s[:-1])"
      ],
      "execution_count": null,
      "outputs": [
        {
          "output_type": "stream",
          "text": [
            "https://colab.research.google.com/drive/1PFdIzhpfxAdB_mlT98jzwAQSmZTFluJS?usp=sharing\n",
            "https://colab.research.google.com/drive/1PFdIzhpfxAdB_mlT98jzwAQSmZTFluJS?usp=sharin\n"
          ],
          "name": "stdout"
        }
      ]
    },
    {
      "cell_type": "code",
      "metadata": {
        "id": "HOv-j0ZvG-bh"
      },
      "source": [
        ""
      ],
      "execution_count": null,
      "outputs": []
    }
  ]
}